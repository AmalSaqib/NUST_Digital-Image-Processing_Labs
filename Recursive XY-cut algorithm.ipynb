{
 "cells": [
  {
   "cell_type": "markdown",
   "id": "f5d6f8ad",
   "metadata": {},
   "source": [
    "# Recursive XY-cut algorithm"
   ]
  },
  {
   "cell_type": "code",
   "execution_count": null,
   "id": "262d279c",
   "metadata": {},
   "outputs": [],
   "source": [
    "import os\n",
    "from PIL import Image\n",
    "from matplotlib import pyplot as plt\n",
    "\n",
    "# returns the array that is used to make the histogram\n",
    "def histogramArray(img):\n",
    "    histogram_array = []\n",
    "    # load the pixels of the image\n",
    "    pix = img.load()\n",
    "    # get width and height of the input image\n",
    "    width, height = img.size\n",
    "    \n",
    "    # iterate through all the pixels\n",
    "    for x in range(height):\n",
    "        # keeps count of the number of pixels in one row\n",
    "        black_pixels = 0\n",
    "        for y in range(width):\n",
    "            # if pixel is black, increment black_pixels\n",
    "            if pix[y, x] == 0:\n",
    "                black_pixels += 1\n",
    "        # append the number of black_pixels in a row \n",
    "        histogram_array.append(black_pixels)       \n",
    "        \n",
    "    return histogram_array\n",
    "\n",
    "# make histogram\n",
    "def makeHistogram(array, img):\n",
    "    plt.bar([i for i in range(0, img.height)], array)\n",
    "\n",
    "# draw a line in rows with no or less black pixels\n",
    "def makeLines(img):\n",
    "    pix = img.load()\n",
    "    for x in range(img.height):\n",
    "        if x == 135 or x == 260 or x == 390:\n",
    "            for i in range(img.width):\n",
    "                pix[i, x] = 0\n",
    "    return img\n",
    "\n",
    "infile = \"XY-cuts.png\"\n",
    "try:\n",
    "    f, e = os.path.splitext(infile)\n",
    "    # open image and convert it to grayscale\n",
    "    img = Image.open(infile).convert('L')\n",
    "    \n",
    "    makeHistogram(histogramArray(img), img)\n",
    "    img = makeLines(img)\n",
    "    \n",
    "    # save histogram\n",
    "    plt.savefig(f + \"_histogram\" + e)\n",
    "    \n",
    "    # save the new image\n",
    "    img.save(f + \"_separated lines\" + e)\n",
    "    \n",
    "except IOError:\n",
    "    print(\"Error\")"
   ]
  }
 ],
 "metadata": {
  "kernelspec": {
   "display_name": "Python 3 (ipykernel)",
   "language": "python",
   "name": "python3"
  },
  "language_info": {
   "codemirror_mode": {
    "name": "ipython",
    "version": 3
   },
   "file_extension": ".py",
   "mimetype": "text/x-python",
   "name": "python",
   "nbconvert_exporter": "python",
   "pygments_lexer": "ipython3",
   "version": "3.9.12"
  }
 },
 "nbformat": 4,
 "nbformat_minor": 5
}
