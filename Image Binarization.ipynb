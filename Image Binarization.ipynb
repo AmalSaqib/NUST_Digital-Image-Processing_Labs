{
 "cells": [
  {
   "cell_type": "markdown",
   "id": "ba87b2f9",
   "metadata": {},
   "source": [
    "# Binarization"
   ]
  },
  {
   "cell_type": "code",
   "execution_count": null,
   "id": "0215b1df",
   "metadata": {},
   "outputs": [],
   "source": [
    "import os, sys\n",
    "from PIL import Image\n",
    "\n",
    "# decide the threshold\n",
    "threshold = 164\n",
    "    \n",
    "# binarize image\n",
    "def binarization(img):\n",
    "    # load the pixels of the image\n",
    "    pix = img.load()\n",
    "    # get width and height of the input image\n",
    "    width, height = img.size\n",
    "    # iterate through all the pixels\n",
    "    for x in range(width):\n",
    "        for y in range(height):\n",
    "            if pix[x, y] > threshold:\n",
    "                pix[x, y] = 255\n",
    "            else:\n",
    "                pix[x, y] = 0\n",
    "    return img\n",
    "\n",
    "# gets all the files from the command line arguments\n",
    "for infile in sys.argv[1:]:\n",
    "    try:\n",
    "        f, e = os.path.splitext(infile)\n",
    "        # open image\n",
    "        img = Image.open(infile).convert('L')\n",
    "        \n",
    "        binarized_img = binarization(img)\n",
    "        \n",
    "        # save binarized image\n",
    "        binarized_img.save(f + '_binarized' + e)\n",
    "    except IOError:\n",
    "        print(\"Binarization Error\") "
   ]
  },
  {
   "cell_type": "markdown",
   "id": "97ff51ae",
   "metadata": {},
   "source": [
    "# Histogram "
   ]
  },
  {
   "cell_type": "code",
   "execution_count": null,
   "id": "8e709efd",
   "metadata": {},
   "outputs": [],
   "source": [
    "import os, sys\n",
    "from PIL import Image\n",
    "from matplotlib import pyplot as plt\n",
    "\n",
    "# get all the pixels in an array\n",
    "def histogramArray(img):\n",
    "    histogram_array = []\n",
    "    # load the pixels of the image\n",
    "    pix = img.load()\n",
    "    # get width and height of the input image\n",
    "    width, height = img.size\n",
    "    \n",
    "    # iterate through all the pixels\n",
    "    for x in range(width):\n",
    "        for y in range(height):\n",
    "            histogram_array.append(pix[x,y])\n",
    "    return histogram_array\n",
    "\n",
    "def makeHistogram(array):\n",
    "    # make histogram\n",
    "    plt.hist(array, bins = [i for i in range(0,256)])\n",
    "\n",
    "# gets all the files from the command line arguments\n",
    "for infile in sys.argv[1:]:\n",
    "    try:\n",
    "        f, e = os.path.splitext(infile)\n",
    "        # open image and convert it to grayscale\n",
    "        img = Image.open(infile).convert('L')\n",
    "        \n",
    "        makeHistogram(histogramArray(img))\n",
    "        \n",
    "        # save histogram\n",
    "        plt.savefig(f + \"_histogram\" + e)\n",
    "        \n",
    "    except IOError:\n",
    "        print(\"Error\")"
   ]
  }
 ],
 "metadata": {
  "kernelspec": {
   "display_name": "Python 3 (ipykernel)",
   "language": "python",
   "name": "python3"
  },
  "language_info": {
   "codemirror_mode": {
    "name": "ipython",
    "version": 3
   },
   "file_extension": ".py",
   "mimetype": "text/x-python",
   "name": "python",
   "nbconvert_exporter": "python",
   "pygments_lexer": "ipython3",
   "version": "3.9.12"
  }
 },
 "nbformat": 4,
 "nbformat_minor": 5
}
